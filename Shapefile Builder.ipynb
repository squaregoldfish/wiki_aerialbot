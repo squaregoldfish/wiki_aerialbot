{
 "cells": [
  {
   "cell_type": "markdown",
   "id": "69be08e5-05d1-4f00-820c-0147738e6e2f",
   "metadata": {},
   "source": [
    "# Shapefile Builder\n",
    "Figuring out how to make a shapefile with points in it.\n"
   ]
  },
  {
   "cell_type": "markdown",
   "id": "7f94215e-c026-4103-8b9c-5a0ad270c458",
   "metadata": {},
   "source": [
    "## Data\n",
    "The data for the shapefile"
   ]
  },
  {
   "cell_type": "code",
   "execution_count": 3,
   "id": "b588c556-37ea-48ab-937b-00b58579169a",
   "metadata": {},
   "outputs": [],
   "source": [
    "pages = [\n",
    "    {\n",
    "        \"url\": \"https://en.wikipedia.org/wiki/Sidi_Brahim_al-Masmudi_Mosque\",\n",
    "        \"title\": \"Sidi Brahim al-Masmudi Mosque\",\n",
    "        \"longitude\": -1.31158333,\n",
    "        \"latitude\": 34.88161111\n",
    "    },\n",
    "    {\n",
    "        \"url\": \"https://en.wikipedia.org/wiki/Dry_Island_(New_York)\",\n",
    "        \"title\": \"Dry Island (New York)\",\n",
    "        \"longitude\": -75.17,\n",
    "        \"latitude\": 44.88833333\n",
    "    },\n",
    "    {\n",
    "        \"url\": \"https://en.wikipedia.org/wiki/Circuit_de_Spa-Francorchamps\",\n",
    "        \"title\": \"Circuit de Spa-Francorchamps\",\n",
    "        \"longitude\": 5.97106682429873,\n",
    "        \"latitude\": 50.445780260733706\n",
    "    }\n",
    "]"
   ]
  },
  {
   "cell_type": "markdown",
   "id": "1bc77cf5-c522-47a2-b174-832b8cc6ca1e",
   "metadata": {},
   "source": [
    "## Imports and Setup"
   ]
  },
  {
   "cell_type": "code",
   "execution_count": 6,
   "id": "e670e611-8e2c-47f5-a5c1-76be8a671188",
   "metadata": {},
   "outputs": [],
   "source": [
    "import shapefile\n",
    "\n",
    "SHAPEFILE = \"shapefile_builder\""
   ]
  },
  {
   "cell_type": "markdown",
   "id": "a70e1c91-857b-4c9e-8649-b0280ceaf5bd",
   "metadata": {},
   "source": [
    "## Create the shapefile"
   ]
  },
  {
   "cell_type": "code",
   "execution_count": 14,
   "id": "af881fad-f182-4776-89de-4806beb1dca2",
   "metadata": {},
   "outputs": [],
   "source": [
    "with shapefile.Writer(SHAPEFILE) as w:\n",
    "    w.shapeType = 1\n",
    "    w.field(\"url\", \"C\")\n",
    "    w.field(\"title\", \"C\")\n",
    "\n",
    "    for p in pages:\n",
    "        w.point(p[\"longitude\"], p[\"latitude\"])\n",
    "        w.record(url=p[\"url\"], title=p[\"title\"])\n",
    "        "
   ]
  },
  {
   "cell_type": "code",
   "execution_count": null,
   "id": "c9a5535e-5a6e-4ef3-aec8-a63446f51a00",
   "metadata": {},
   "outputs": [],
   "source": []
  }
 ],
 "metadata": {
  "kernelspec": {
   "display_name": "Python 3 (ipykernel)",
   "language": "python",
   "name": "python3"
  },
  "language_info": {
   "codemirror_mode": {
    "name": "ipython",
    "version": 3
   },
   "file_extension": ".py",
   "mimetype": "text/x-python",
   "name": "python",
   "nbconvert_exporter": "python",
   "pygments_lexer": "ipython3",
   "version": "3.8.10"
  }
 },
 "nbformat": 4,
 "nbformat_minor": 5
}
